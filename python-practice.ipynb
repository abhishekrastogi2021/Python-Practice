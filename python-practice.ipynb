{
 "cells": [
  {
   "cell_type": "code",
   "execution_count": 16,
   "metadata": {},
   "outputs": [
    {
     "name": "stdout",
     "output_type": "stream",
     "text": [
      "Enter a number 23\n",
      "23 * 1 = 23\n",
      "23 * 2 = 46\n",
      "23 * 3 = 69\n",
      "23 * 4 = 92\n",
      "23 * 5 = 115\n",
      "23 * 6 = 138\n",
      "23 * 7 = 161\n",
      "23 * 8 = 184\n",
      "23 * 9 = 207\n",
      "23 * 10 = 230\n"
     ]
    }
   ],
   "source": [
    "# 1. Write a function that inputs a number and prints the multiplication table of that number\n",
    "\n",
    "def multab(num):\n",
    "    \n",
    "    \"\"\"\n",
    "    This function print multiplication table of given number.\n",
    "    \"\"\"\n",
    "    \n",
    "    count = 1\n",
    "    \n",
    "    while (count < 11):                                  #Looping to print multiplication table till 10               \n",
    "        \n",
    "        print(\"{} * {} =\" .format(num,count), num * count);\n",
    "        count += 1\n",
    "        \n",
    "\n",
    "num = int(input(\"Enter a number \"));\n",
    "multab(num)"
   ]
  },
  {
   "cell_type": "code",
   "execution_count": 14,
   "metadata": {
    "scrolled": true
   },
   "outputs": [
    {
     "name": "stdout",
     "output_type": "stream",
     "text": [
      "Twin Prime Numbers less than 1000 are :\n",
      "3 5\n",
      "5 7\n",
      "11 13\n",
      "17 19\n",
      "29 31\n",
      "41 43\n",
      "59 61\n",
      "71 73\n",
      "101 103\n",
      "107 109\n",
      "137 139\n",
      "149 151\n",
      "179 181\n",
      "191 193\n",
      "197 199\n",
      "227 229\n",
      "239 241\n",
      "269 271\n",
      "281 283\n",
      "311 313\n",
      "347 349\n",
      "419 421\n",
      "431 433\n",
      "461 463\n",
      "521 523\n",
      "569 571\n",
      "599 601\n",
      "617 619\n",
      "641 643\n",
      "659 661\n",
      "809 811\n",
      "821 823\n",
      "827 829\n",
      "857 859\n",
      "881 883\n"
     ]
    }
   ],
   "source": [
    "''' 2. Write a program to print twin primes less than 1000.\n",
    "If two consecutive odd numbers are both prime then they are known as twin primes.'''\n",
    "\n",
    "def primecheck(num):\n",
    "    \n",
    "    '''\n",
    "    This function check if a given number is prime number or not.\n",
    "    '''\n",
    "    prime = True;\n",
    "    for chknum in range (3, num, 2):            # Only odd numbers will come as input\n",
    "    \n",
    "        if (num % chknum == 0):\n",
    "            \n",
    "            prime = False;\n",
    "            \n",
    "    if not prime: return 0\n",
    "        \n",
    "    else: return 1\n",
    "            \n",
    "            \n",
    "minnum = 3                 # Smallest Twin Prime Number value\n",
    "maxnum = 1000\n",
    "count =0\n",
    "print(\"Twin Prime Numbers less than {} are :\" .format(maxnum))\n",
    "\n",
    "for num in range (5, maxnum, 2):                   # Looping from 3 to 1000 for all odd numbers\n",
    "    \n",
    "    if ((primecheck(num) == 1)):\n",
    "        \n",
    "        if (minnum > 0): print(minnum, num); count+=1       # Skip printing if last number was not prime\n",
    "        \n",
    "        minnum = num\n",
    "        \n",
    "    else:\n",
    "        \n",
    "        minnum = 0\n",
    "        \n",
    "     \n",
    "        \n"
   ]
  },
  {
   "cell_type": "code",
   "execution_count": 38,
   "metadata": {},
   "outputs": [
    {
     "name": "stdout",
     "output_type": "stream",
     "text": [
      "Enter a number: 56\n",
      "Prime factors of 56 are:  [2, 2, 2, 7]\n"
     ]
    }
   ],
   "source": [
    "# 3. Write a program to find out the prime factors of a number. Example: prime factors of 56 - 2, 2, 2, 7\n",
    "    \n",
    "def prm_fact(num):\n",
    "    \n",
    "    '''\n",
    "    This function calculate prime factors of given number.\n",
    "    '''\n",
    "    \n",
    "    for div in range(2, num):\n",
    "        \n",
    "         while (num % div == 0):\n",
    "                                \n",
    "                prmfact.append(div)       #Storing and appending values to a list\n",
    "                num = num / div;\n",
    "    \n",
    "    if (num < 1): prmfact.append(num)\n",
    "        \n",
    "    return prmfact\n",
    "        \n",
    "num = int(input(\"Enter a number: \"))\n",
    "prmfact = []\n",
    "print(\"Prime factors of {} are: \" .format(num), prm_fact(num))\n"
   ]
  },
  {
   "cell_type": "code",
   "execution_count": 44,
   "metadata": {},
   "outputs": [
    {
     "name": "stdout",
     "output_type": "stream",
     "text": [
      "Enter Number of Objects : 5\n",
      "Enter Possible orders of objects : 2\n",
      "Permutation of 5 objects taken 2 at a time is : 20.0\n",
      "Combination of 5 objects taken 2 at a time is : 10.0\n"
     ]
    }
   ],
   "source": [
    "'''4. Write a program to implement these formulae of permutations and combinations.\n",
    "Number of permutations of n objects taken r at a time: p(n, r) = n! / (n-r)!.\n",
    "Number of combinations of n objects taken r at a time is: c(n, r) = n! / (r!*(n-r)!) = p(n,r) / r!'''\n",
    "\n",
    "def fact(num):\n",
    "    \n",
    "    '''\n",
    "    This function calculate factorial of a given number.\n",
    "    '''\n",
    "    \n",
    "    return 1 if num == 1 else (num * fact(num-1))\n",
    "\n",
    "def permcal(obj, rt):\n",
    "    \n",
    "    '''\n",
    "    This function calculate permutation of a given number.\n",
    "    '''\n",
    "    \n",
    "    return (fact(obj) / fact(obj - rt))\n",
    "\n",
    "def combcal(obj,rt):\n",
    "    \n",
    "    '''\n",
    "    This function calculate combination of a given number.\n",
    "    '''\n",
    "    return(permcal(obj,rt) / fact(rt))\n",
    "    \n",
    "    \n",
    "obj = int(input(\"Enter Number of Objects : \"));\n",
    "rt = int(input(\"Enter Possible orders of objects : \"));\n",
    "print(\"Permutation of {} objects taken {} at a time is :\" .format(obj,rt), permcal(obj, rt))\n",
    "print(\"Combination of {} objects taken {} at a time is :\" .format(obj,rt), combcal(obj, rt))\n"
   ]
  },
  {
   "cell_type": "code",
   "execution_count": 32,
   "metadata": {},
   "outputs": [
    {
     "name": "stdout",
     "output_type": "stream",
     "text": [
      "Enter a decimal number : 34\n",
      "Binary conversion of decimal number 34 is : \n",
      "100010"
     ]
    }
   ],
   "source": [
    "# 5. Write a function that converts a decimal number to binary number\n",
    "\n",
    "def bincal(num):\n",
    "    \n",
    "    '''\n",
    "    This function converts a given number into binary number.\n",
    "    '''\n",
    "    \n",
    "    if num > 1:\n",
    "    \n",
    "        bincal(num // 2)\n",
    "        \n",
    "    print((num % 2), end = '')\n",
    "\n",
    "num = int(input(\"Enter a decimal number : \"))\n",
    "print(\"Binary conversion of decimal number {} is : \" .format(num))\n",
    "bincal(num)\n"
   ]
  },
  {
   "cell_type": "code",
   "execution_count": 1,
   "metadata": {},
   "outputs": [
    {
     "name": "stdout",
     "output_type": "stream",
     "text": [
      "Enter a three digit number: 153\n",
      "Number 153 is an Armstrong Number\n"
     ]
    }
   ],
   "source": [
    "'''6. Write a function cubesum() that accepts an integer and returns the sum of the cubes of individual digits of that number\n",
    "Use this function to make functions PrintArmstrong() and isArmstrong() to print Armstrong numbers and to find whether is an\n",
    "Armstrong number.'''\n",
    "\n",
    "def cubesum(num):\n",
    "    \n",
    "    '''\n",
    "    This function calculate sum of the cubes of individual digits of given number.\n",
    "    '''\n",
    "    onum = num;\n",
    "    cubesum = 0 ;\n",
    "    while (num > 0):\n",
    "        \n",
    "        cnum = num % 10;\n",
    "        cubesum += cnum ** 3;\n",
    "        num = num // 10;\n",
    "        \n",
    "    isArmstrong(onum, cubesum)\n",
    "    \n",
    "def isArmstrong(onum, cubesum):\n",
    "    \n",
    "    '''\n",
    "    This function verify if a given number is Armstrong number or not.\n",
    "    '''\n",
    "    isArmstrong = True if(onum == cubesum) else False\n",
    "        \n",
    "    PrintArmstrong(onum, isArmstrong)\n",
    "    \n",
    "def PrintArmstrong(onum, isArmstrong):\n",
    "    \n",
    "    '''\n",
    "    This function display the outout.\n",
    "    '''\n",
    "    if isArmstrong : print(\"Number {} is an Armstrong Number\".format(onum)) \n",
    "        \n",
    "    else: print(\"Number {} is not an Armstrong Number\".format(onum))\n",
    "    \n",
    "\n",
    "num = int(input(\"Enter a three digit number: \"))\n",
    "cubesum(num)"
   ]
  },
  {
   "cell_type": "code",
   "execution_count": 6,
   "metadata": {},
   "outputs": [
    {
     "name": "stdout",
     "output_type": "stream",
     "text": [
      "Enter a number: 345\n",
      "Product of digits of 345 is : 60\n"
     ]
    }
   ],
   "source": [
    "# 7. Write a function prodDigits() that inputs a number and returns the product of digits of that number.\n",
    "\n",
    "def prodDigits(num):\n",
    "    \n",
    "    '''\n",
    "    This function calculates the digit of a given number.\n",
    "    '''\n",
    "    \n",
    "    onum = num;\n",
    "    mulnum = 1;\n",
    "    while (num > 0):\n",
    "        \n",
    "        cnum = num % 10;\n",
    "        mulnum *= cnum;\n",
    "        num = num // 10;\n",
    "    \n",
    "    return mulnum\n",
    "\n",
    "num = int(input(\"Enter a number: \")) \n",
    "print(\"Product of digits of {} is :\".format(num), prodDigits(num))\n"
   ]
  },
  {
   "cell_type": "code",
   "execution_count": 7,
   "metadata": {},
   "outputs": [
    {
     "name": "stdout",
     "output_type": "stream",
     "text": [
      "Enter a number: 86\n",
      "Multiplicative Digital Root of 86 is : 6 \n",
      "Multiplicative Persistence of 86 is : 3\n"
     ]
    }
   ],
   "source": [
    "# 8. Using the function prodDigits() of previous exercise write functions MDR() and MPersistence() that input a number\n",
    "# and return its multiplicative digital root and multiplicative persistence respectively.\n",
    "\n",
    "def MPersistence(onum, count):\n",
    "    \n",
    "    '''\n",
    "    This function display the Multiplicative Persistence of a given number.\n",
    "    '''\n",
    "    \n",
    "    print(\"Multiplicative Persistence of {0} is : {1}\".format(onum, count))    \n",
    "    \n",
    "def MDRCalc(num):\n",
    "    \n",
    "    '''\n",
    "    This function calculate the Multiplicative digital root of a given number.\n",
    "    '''\n",
    "    \n",
    "    onum = num;\n",
    "    count = 0;\n",
    "    while(num > 9):\n",
    "        \n",
    "        mulnum = prodDigits(num);\n",
    "        num = mulnum;\n",
    "        count += 1\n",
    "        \n",
    "    print(\"Multiplicative Digital Root of {0} is : {1} \".format(onum, num))\n",
    "    \n",
    "    MPersistence(onum, count)\n",
    "    \n",
    "num = int(input(\"Enter a number: \"))\n",
    "MDRCalc(num)"
   ]
  },
  {
   "cell_type": "code",
   "execution_count": 8,
   "metadata": {},
   "outputs": [
    {
     "name": "stdout",
     "output_type": "stream",
     "text": [
      "Enter a number : 36\n",
      "Sum of proper divisors of 36 is : 55\n"
     ]
    }
   ],
   "source": [
    "'''9. Write a function sumPdivisors() that finds the sum of proper divisors of a number. \n",
    "Proper divisors of a number are those numbers by which the number is divisible, except the number itself.\n",
    "For example proper divisors of 36 are 1, 2, 3, 4, 6, 9, 18'''\n",
    "\n",
    "def sumPdivisors(num):\n",
    "    \n",
    "    '''\n",
    "    This function calculate the sum of proper divisors of given number.\n",
    "    '''\n",
    "    sum = 0;\n",
    "    for i in range(1,num):\n",
    "        \n",
    "        if (num % i == 0):\n",
    "            \n",
    "            sum = sum + i;\n",
    "            \n",
    "    return sum\n",
    "    \n",
    "num = int(input(\"Enter a number : \"))\n",
    "print(\"Sum of proper divisors of {} is :\".format(num), sumPdivisors(num))\n"
   ]
  },
  {
   "cell_type": "code",
   "execution_count": 9,
   "metadata": {},
   "outputs": [
    {
     "name": "stdout",
     "output_type": "stream",
     "text": [
      "Enter Start Range number : 1\n",
      "Enter End Range Number : 500\n",
      "Perfect numbers between 1 and 500 are : (6, 28, 496)\n"
     ]
    }
   ],
   "source": [
    "''' 10. A number is called perfect if the sum of proper divisors of that number is equal to the number.\n",
    "For example 28 is perfect number, since 1+2+4+7+14=28. Write a program to print all the perfect numbers in a given range.'''\n",
    "\n",
    "def Perfctno(num1, num2):\n",
    "    \n",
    "    '''\n",
    "    This function calculates perfect number of a given number.\n",
    "    '''\n",
    "    pno = ();\n",
    "    \n",
    "    for dnum in range (num1, num2 + 1):\n",
    "        \n",
    "        retsum =sumPdivisors(dnum)\n",
    "        \n",
    "        if (retsum == dnum):\n",
    "            \n",
    "            pno1 = (dnum,)           # Converting integer to tuples to store valid value to pno tuple.\n",
    "            pno = pno + pno1;        # Creating tuple of all perfect numbers.\n",
    "            \n",
    "    return pno\n",
    "    \n",
    "num1 = int(input(\"Enter Start Range number : \"))\n",
    "num2 = int(input(\"Enter End Range Number : \"))\n",
    "print(\"Perfect numbers between {0} and {1} are :\".format(num1, num2), Perfctno(num1, num2))\n",
    "\n"
   ]
  },
  {
   "cell_type": "code",
   "execution_count": 10,
   "metadata": {},
   "outputs": [
    {
     "name": "stdout",
     "output_type": "stream",
     "text": [
      "Enter Start Range number : 200\n",
      "Enter End Range Number : 1300\n",
      "Amicable numbers between 200 and 1300 are :\n",
      "(220, 284)\n",
      "(1184, 1210)\n"
     ]
    }
   ],
   "source": [
    "''' 11. Two different numbers are called amicable numbers if the sum of the proper divisors of each is equal to the other number.\n",
    "For example 220 and 284 are amicable numbers.\n",
    "Sum of proper divisors of 220 = 1+2+4+5+10+11+20+22+44+55+110 = 284 Sum of proper divisors of 284 = 1+2+4+71+142 = 220.\n",
    "Write a function to print pairs of amicable numbers in a range'''\n",
    "\n",
    "def amicableNo(num1, num2):\n",
    "    \n",
    "    '''\n",
    "    This function find amicable numbers between a range of numbers.\n",
    "    '''\n",
    "    \n",
    "    print(\"Amicable numbers between {0} and {1} are :\".format(num1, num2)) \n",
    "    pno = ();\n",
    "    pno1 = ();\n",
    "    pno2 = ();\n",
    "    \n",
    "    for dnum in range (num1, num2 + 1):\n",
    "        \n",
    "        retsum1 = sumPdivisors(dnum)\n",
    "        \n",
    "        if ((retsum1 > num1) & (retsum1 < num2)):\n",
    "            \n",
    "            retsum2 = sumPdivisors(retsum1)\n",
    "            \n",
    "        if (retsum2 == dnum) & (retsum1 != retsum2) & (retsum1 < retsum2):\n",
    "            \n",
    "            pno1 = (retsum1, retsum2)\n",
    "            \n",
    "            print(pno1)\n",
    "                        \n",
    "num1 = int(input(\"Enter Start Range number : \"))\n",
    "num2 = int(input(\"Enter End Range Number : \"))\n",
    "amicableNo(num1, num2)\n"
   ]
  },
  {
   "cell_type": "code",
   "execution_count": 10,
   "metadata": {},
   "outputs": [
    {
     "name": "stdout",
     "output_type": "stream",
     "text": [
      "Enter Start Range number : 1\n",
      "Enter End Range Number : 10\n",
      "Odd Numbers in given list range(1, 10) are :  [1, 3, 5, 7, 9]\n"
     ]
    }
   ],
   "source": [
    "# 12. Write a program which can filter odd numbers in a list by using filter function\n",
    "\n",
    "def findOddNum(num):\n",
    "    \n",
    "    '''\n",
    "    This function verify if a given number is odd or not.\n",
    "    '''\n",
    "    \n",
    "    if (num % 2 == 1):\n",
    "        \n",
    "        return num\n",
    "    \n",
    "num1 = int(input(\"Enter Start Range number : \"))\n",
    "num2 = int(input(\"Enter End Range Number : \"))\n",
    "\n",
    "listnum = range(num1, num2) \n",
    "\n",
    "odd_num = list(filter(findOddNum, listnum))\n",
    "\n",
    "print(\"Odd Numbers in given list {} are : \".format(listnum), odd_num)\n"
   ]
  },
  {
   "cell_type": "code",
   "execution_count": 3,
   "metadata": {},
   "outputs": [
    {
     "name": "stdout",
     "output_type": "stream",
     "text": [
      "Enter Start Range number : 1\n",
      "Enter End Range Number : 10\n",
      "List of cube elements are:  [1, 8, 27, 64, 125, 216, 343, 512, 729]\n"
     ]
    }
   ],
   "source": [
    "# 13. Write a program which can map() to make a list whose elements are cube of elements in a given list.\n",
    "\n",
    "num1 = int(input(\"Enter Start Range number : \"))\n",
    "num2 = int(input(\"Enter End Range Number : \"))\n",
    "\n",
    "ranlist = range(num1, num2)\n",
    "\n",
    "finalList = list(map(lambda x: x**3 , ranlist))\n",
    "\n",
    "print(\"List of cube elements are: \", finalList)"
   ]
  },
  {
   "cell_type": "code",
   "execution_count": 13,
   "metadata": {},
   "outputs": [
    {
     "name": "stdout",
     "output_type": "stream",
     "text": [
      "Enter Start Range number : 1\n",
      "Enter End Range Number : 10\n",
      "[8, 64, 216, 512]\n"
     ]
    }
   ],
   "source": [
    "# 14. Write a program which can map() and filter() to make a list whose elements are cube of even number in a given list.\n",
    "\n",
    "def evenNum(num):\n",
    "    \n",
    "    '''\n",
    "    This function verify if a given number is even number or not. \n",
    "    '''\n",
    "    \n",
    "    if (num % 2 == 0):\n",
    "        \n",
    "        return num\n",
    "    \n",
    "num1 = int(input(\"Enter Start Range number : \"))\n",
    "num2 = int(input(\"Enter End Range Number : \"))\n",
    "\n",
    "ranlist = range(num1, num2)\n",
    "\n",
    "finalList = list(map(lambda x: x**3, (list(filter(evenNum, ranlist)))))\n",
    "\n",
    "print(finalList)\n",
    "                 \n",
    "                 "
   ]
  },
  {
   "cell_type": "code",
   "execution_count": null,
   "metadata": {
    "collapsed": true
   },
   "outputs": [],
   "source": []
  }
 ],
 "metadata": {
  "kernelspec": {
   "display_name": "Python 3",
   "language": "python",
   "name": "python3"
  },
  "language_info": {
   "codemirror_mode": {
    "name": "ipython",
    "version": 3
   },
   "file_extension": ".py",
   "mimetype": "text/x-python",
   "name": "python",
   "nbconvert_exporter": "python",
   "pygments_lexer": "ipython3",
   "version": "3.6.2"
  }
 },
 "nbformat": 4,
 "nbformat_minor": 2
}
